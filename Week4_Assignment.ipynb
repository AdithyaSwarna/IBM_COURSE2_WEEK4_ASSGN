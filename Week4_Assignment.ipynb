{
 "cells": [
  {
   "cell_type": "markdown",
   "id": "c23a59ed-715c-482b-82d4-8ce96219cde2",
   "metadata": {},
   "source": [
    "# My Jupyter Notebook on IBM Watson Studio"
   ]
  },
  {
   "cell_type": "markdown",
   "id": "a5527d59-5ffd-4845-9689-fdc7dfe0e3af",
   "metadata": {},
   "source": [
    "**Adithya**\n",
    "<br>\n",
    "Data Scientist"
   ]
  },
  {
   "cell_type": "markdown",
   "id": "5e5e8916-3154-4c77-b76f-6d98bbb19003",
   "metadata": {},
   "source": [
    "*I have a passion for using data to draw meaningful conclusions about a company's growth.*"
   ]
  },
  {
   "cell_type": "markdown",
   "id": "36364217-40e8-43df-9999-a912bc5efa52",
   "metadata": {},
   "source": [
    "### Below code adds two random integers."
   ]
  },
  {
   "cell_type": "code",
   "execution_count": 14,
   "id": "b32c0334-d911-4f92-8892-c426dc0bc2fb",
   "metadata": {},
   "outputs": [
    {
     "name": "stdout",
     "output_type": "stream",
     "text": [
      "6735\n"
     ]
    }
   ],
   "source": [
    "import random\n",
    "print(random.randint(-9999,9999) + random.randint(-9999,9999))"
   ]
  },
  {
   "cell_type": "markdown",
   "id": "cdfcf08b-5bdb-481e-9182-91fa69ce104f",
   "metadata": {},
   "source": [
    "### Numbered List\n",
    "1. First ordered list item\n",
    "2. Another item\n",
    "⋅⋅* Unordered sub-list. \n",
    "1. Actual numbers don't matter, just that it's a number\n",
    "⋅⋅1. Ordered sub-list\n",
    "4. And another item.\n",
    "\n",
    "### code/syntax highlighting\n",
    "<code>print(\"Hello\")\n",
    "print(\"Hi\")\n",
    "</code>\n",
    "<br>\n",
    "Above print statements are highlighted\n",
    "\n",
    "### Table\n",
    "|col1|col2|col3|\n",
    "|---|---|---|\n",
    "|11|12|13|\n",
    "|21|22|23|\n",
    "|31|32|33|\n",
    "|41|42|43|"
   ]
  },
  {
   "cell_type": "code",
   "execution_count": null,
   "id": "5cd1f66d-daba-4c0c-8870-d8b6bcbda153",
   "metadata": {},
   "outputs": [],
   "source": []
  }
 ],
 "metadata": {
  "kernelspec": {
   "display_name": "Python",
   "language": "python",
   "name": "conda-env-python-py"
  },
  "language_info": {
   "codemirror_mode": {
    "name": "ipython",
    "version": 3
   },
   "file_extension": ".py",
   "mimetype": "text/x-python",
   "name": "python",
   "nbconvert_exporter": "python",
   "pygments_lexer": "ipython3",
   "version": "3.7.12"
  }
 },
 "nbformat": 4,
 "nbformat_minor": 5
}
